{
 "cells": [
  {
   "cell_type": "markdown",
   "metadata": {},
   "source": [
    "# Electron Diffraction Individual Analysis\n",
    "\n",
    "Use this template to carry out the analysis tasks for the Electron Diffraction experiment.  You may need to consult the documentation for different Python packages.  Also recommended: the [Whirlwind Tour of Python](https://jakevdp.github.io/WhirlwindTourOfPython/) and the [Python Data Science Handbook](https://jakevdp.github.io/PythonDataScienceHandbook/) both by Jake VanderPlas."
   ]
  },
  {
   "cell_type": "markdown",
   "metadata": {},
   "source": [
    "## First, import some packages\n",
    "\n",
    "This is a good idea at the beginning of your notebook to include the packages that you will need.  We will use the four shown below here.  A brief description:\n",
    "* `numpy` is the foundational package for Python numerical work. It extends and speeds up array operations beyond standard Python, and it includes almost all math functions that you would need for example `sqrt()` (square root) or `cos()` (cosine).  These would be written in code as `np.sqrt()` or `np.cos()`.\n",
    "* `scipy` is a huge collection of scientific data analysis functions, routines, physicical constants, etc.  This is the second most used package for scientific work.  In this notebook, we will only make use of one physical constant (the speed of light).  Documentation is at [SciPy.org](https://docs.scipy.org/doc/scipy/reference/) with the constants subpackage at https://docs.scipy.org/doc/scipy/reference/constants.html.\n",
    "* `uncertainties` is a very useful small package that simplifies uncertainty propagation and printing out of quantities with uncertainty.  As part of this notebook, you will calculate an uncertainty the \"hard way\" by explicit calculation and by using the Uncertainties package. Documentation is at https://pythonhosted.org/uncertainties/\n",
    "* `matplotlib` is *the* standard plotting package for scientific Python.  We will use a subset called `pyplot` which is modeled after the plotting functions used in MATLAB. The last line below, `%matplotlib inline`, simply forces the plots to appear within the notebook.\n",
    "* `pandas` is a large data science package.  It's main feature is a set of methods to create and manipulate \"Dataframes\", which is an enlargement of the idea of an array.  I playe well with NumPy and other packages.  We will use it mainly as a way to read files into data sets in an easy way."
   ]
  },
  {
   "cell_type": "code",
   "execution_count": 1,
   "metadata": {},
   "outputs": [],
   "source": [
    "# Run this cell with Shift-Enter, and wait until the asterisk changes to a number, i.e., [*] becomes [1]\n",
    "import numpy as np\n",
    "import scipy.constants as const\n",
    "import uncertainties as unc\n",
    "import matplotlib.pyplot as plt\n",
    "import pandas as pd\n",
    "%matplotlib inline"
   ]
  },
  {
   "cell_type": "markdown",
   "metadata": {},
   "source": [
    "## Graphite data analysis\n",
    "\n",
    "### Part 1 - Look at your data set\n",
    "\n",
    "It is always a good idea to make a plot of the raw data before trying to manipulate it.\n",
    "\n",
    "**Advice:** Enter the measurements you obtained from analyzing the diffraction images int a simple spreadsheet, with the first column being the accelerating voltage and the other columns being the ring/spot diameters.  Save the file as a '.csv'.  \n",
    "\n",
    "Then use the **Pandas** function `read_csv()` to pull the file into a Pandas Dataframe, like this:\n",
    "\n",
    "```\n",
    "gr_data = pd.read_csv('graphite_data.csv')\n",
    "```\n",
    "\n",
    "If the last line in the cell is the name of the dataframe, it will print a nice table.\n",
    "\n",
    "You may obtain the arrays for each column by using the column label, e.g., `gr_data['Voltage (kV)']` is the array of the first column."
   ]
  },
  {
   "cell_type": "code",
   "execution_count": null,
   "metadata": {
    "scrolled": true
   },
   "outputs": [],
   "source": [
    "## Code below shows how (your file name may differ)\n",
    "import pandas as pd\n",
    "\n",
    "gr_data = pd.read_csv('graphite_data.csv')\n",
    "gr_data"
   ]
  },
  {
   "cell_type": "markdown",
   "metadata": {},
   "source": [
    "#### Plot the data\n",
    "\n",
    "Below, I'll show how, using the labels I chose for my own data file.  Study the commands, change them, and see what happens.  Hint: study the sections in the [Python Data Science Handbook](https://jakevdp.github.io/PythonDataScienceHandbook/) on Matplotlib. \n",
    "\n",
    "After you make the plot, look to make sure your data set does not have any weird points. This is a good way to catch bad data points."
   ]
  },
  {
   "cell_type": "code",
   "execution_count": null,
   "metadata": {},
   "outputs": [],
   "source": [
    "## Copy and adjust the code below for your own graphs later on.\n",
    "\n",
    "plt.figure(figsize=(9,6.5))\n",
    "plt.grid()\n",
    "plt.title('Graphite Electron Diffraction Data')\n",
    "plt.ylabel(r'Ring diameter $D$ (mm)')\n",
    "plt.xlabel(r'Acceleration voltage $V$ (kV)')\n",
    "plt.plot(gr_data['AnodeV (kV)'],gr_data['D_10 (mm)'],'ob',label='{10} Reflections')\n",
    "plt.plot(gr_data['AnodeV (kV)'],gr_data['D_11 (mm)'],'or',label='{11} Reflections')\n",
    "plt.legend();"
   ]
  },
  {
   "cell_type": "markdown",
   "metadata": {},
   "source": [
    "### Part 2 - Transform (linearize) the data \n",
    "\n",
    "#### Find $\\sin\\theta$\n",
    "\n",
    "First, you need to change the diameter measurements $D$ into $\\sin\\theta$.  Consider the geometry of the scattering and the fact that you are measuring a diameter. (It is easy to be off by factors of 2.) You will also need the distance $L$ between the target and the screen. Be careful of units! \n",
    "\n",
    "Create new arrays that contain the transformed data.  "
   ]
  },
  {
   "cell_type": "code",
   "execution_count": 4,
   "metadata": {},
   "outputs": [],
   "source": [
    "## You write all here"
   ]
  },
  {
   "cell_type": "markdown",
   "metadata": {},
   "source": [
    "#### Find a function of $V$...\n",
    "\n",
    "... that linearizes the data relationship:\n",
    "\n",
    "Combine the DeBroglie relationship, the momentum-energy relationship and the energy-voltage relationship to create a function that predicts $\\sin\\theta$ as a function of $V$.  Then recast $V$ in order to get a new array that when plotted against $\\sin\\theta$ should produce a straight line.  The slope of the line should be something you can compare against a predicted value."
   ]
  },
  {
   "cell_type": "code",
   "execution_count": 5,
   "metadata": {},
   "outputs": [],
   "source": [
    "## You write all here"
   ]
  },
  {
   "cell_type": "markdown",
   "metadata": {},
   "source": [
    "#### Plot the transformed data\n",
    "\n",
    "Check your calculation: make a reasonably big plot that shows the \"linearized\" data set.  If you succeded, it should look like a line."
   ]
  },
  {
   "cell_type": "code",
   "execution_count": 6,
   "metadata": {},
   "outputs": [],
   "source": [
    "## Use the plotting code above"
   ]
  },
  {
   "cell_type": "markdown",
   "metadata": {},
   "source": [
    "### Part 3 - Fit the linearized data\n",
    "\n",
    "To fit the data set to a line, make use of the **lmfit** package. It is a useful add-on to the SciPy fitting functions.  This package simplifies fitting data to a variety of standard functions.  See the [Lmfit Documentation](https://lmfit.github.io/lmfit-py/index.html) for a full discussion.  The package is quite powerful, but for basic fitting with common functions, it is very easy to use.  \n",
    "\n",
    "#### Example: Fitting a line\n",
    "\n",
    "The example below shows how to use the package to fit data to a line, obtain the fit parameters along with uncertainties, and then plot the data and fit. Execute the cell and study how it works.\n",
    "(Note: the data come from a calibration problem in physics 331)\n"
   ]
  },
  {
   "cell_type": "code",
   "execution_count": 7,
   "metadata": {
    "scrolled": false
   },
   "outputs": [
    {
     "name": "stdout",
     "output_type": "stream",
     "text": [
      "[[Model]]\n",
      "    Model(linear)\n",
      "[[Fit Statistics]]\n",
      "    # fitting method   = leastsq\n",
      "    # function evals   = 3\n",
      "    # data points      = 9\n",
      "    # variables        = 2\n",
      "    chi-square         = 0.18041902\n",
      "    reduced chi-square = 0.02577415\n",
      "    Akaike info crit   = -31.1872805\n",
      "    Bayesian info crit = -30.7928313\n",
      "[[Variables]]\n",
      "    slope:      15.4639413 +/- 0.01139807 (0.07%) (init = 15.46394)\n",
      "    intercept:  3.20598011 +/- 0.38164201 (11.90%) (init = 3.20598)\n",
      "[[Correlations]] (unreported correlations are < 0.100)\n",
      "    C(slope, intercept) = -0.990\n",
      "\n",
      "Slope =  15.463941344548298 +/- 0.01139806675222934\n"
     ]
    },
    {
     "data": {
      "image/png": "[encoded data removed]",
      "text/plain": [
       "<Figure size 432x432 with 2 Axes>"
      ]
     },
     "metadata": {
      "needs_background": "light"
     },
     "output_type": "display_data"
    }
   ],
   "source": [
    "# Calibration Data\n",
    "# First column is wavelength (nm), second is carriage poisition (cm)\n",
    "#\n",
    "Cal_data = np.array([\n",
    "    [643.85, 41.43],\n",
    "    [579.07, 37.24],\n",
    "    [576.96, 37.11],\n",
    "    [546.08, 35.10],\n",
    "    [508.58, 32.68],\n",
    "    [479.99, 30.83],\n",
    "    [467.81, 30.04],\n",
    "    [435.83, 27.96],\n",
    "    [404.66, 25.98]])\n",
    "\n",
    "# Array slicing separates x (position) and y (wavelength)\n",
    "# Goal of calibration is to be able to feed in a position and obtain a wavelength\n",
    "wavelength = Cal_data[:,0]\n",
    "position = Cal_data[:,1]\n",
    "\n",
    "# imports a linear fitting model from lmfit\n",
    "from lmfit.models import LinearModel\n",
    "\n",
    "# create an instance of the model\n",
    "line = LinearModel()\n",
    "\n",
    "# One must have a guess of the parameters. The guess() method works with most of the standard\n",
    "# lmfit models\n",
    "param_guess = line.guess(wavelength, x=position)\n",
    "\n",
    "# The line below executes the fitting process.  The results are returned to \"line_fit\"\n",
    "line_fit = line.fit(wavelength, param_guess, x=position)\n",
    "\n",
    "# This prints the results in an easy to read form\n",
    "print(line_fit.fit_report())\n",
    "\n",
    "# The parameters and uncertainties are accessible as follows, for example:\n",
    "print('\\nSlope = ',line_fit.params['slope'].value,'+/-',line_fit.params['slope'].stderr)\n",
    "\n",
    "#Then you can plot the results quickly just to see how it looks using the plot() method\n",
    "line_fit.plot();"
   ]
  },
  {
   "cell_type": "markdown",
   "metadata": {},
   "source": [
    "### Fit the line to your data\n",
    "\n",
    "Repeat the above calculation by feeding in the appropriate arrays from your linearization transformations.  Obtain the slope.  What are the units??\n",
    "\n",
    "Note: you only need to redo the following instructions, replacing the `wavelength` and `position` arrays:\n",
    "\n",
    "```\n",
    "param_guess = line.guess(wavelength, x=position)\n",
    "\n",
    "line_fit = line.fit(wavelength, param_guess, x=position)\n",
    "\n",
    "print(line_fit.fit_report())\n",
    "```\n",
    "\n",
    "Run the fit for both the inner ring data ({10} refections) and the next ring data ({11} reflections). You should have two different slopes that can be reduced to give the lattice constant. "
   ]
  },
  {
   "cell_type": "code",
   "execution_count": 8,
   "metadata": {},
   "outputs": [],
   "source": [
    "## You write all here. Copy the above and save the slope to a variable you will use later"
   ]
  },
  {
   "cell_type": "markdown",
   "metadata": {},
   "source": [
    "### Plot the linefits against the data\n",
    "\n",
    "Use the `eval()` method to obtain a fitline, for example,\n",
    "\n",
    "\n",
    "    fit_x_values = np.linspace(0,np.max(inv_V),20)\n",
    "    fitline_10 = line_fit_10.eval(line_fit_10.params,x=fit_x_values)\n",
    "\n",
    "\n",
    "Then plot the line(s) on your data plot made above."
   ]
  },
  {
   "cell_type": "code",
   "execution_count": 9,
   "metadata": {},
   "outputs": [],
   "source": [
    "## You write all here.  Use the plotting code above.  \n",
    "\n",
    "## To plot a line, use the format tag '-r' instead of 'or' in the plt.plot() call \n"
   ]
  },
  {
   "cell_type": "markdown",
   "metadata": {},
   "source": [
    "### Part 4 - Evaluate the fit constants\n",
    "\n",
    "The fit constants (slope) should be related to the physical constants in the DeBroglie relation and electron momentum-energy relation, along with the graphite lattice constant $a$.  Use the SciPy constants (or other Python libraries of cosntants) to calculate the expected value of the slope(s). Compare to the measured one(s) by calculating the lattice constant from the fit(s).\n",
    "\n",
    "Then from your own measurements and the known value of $a$ (2.46 angstrom), calculate a conversion constant that will allow you to find the wavelength $\\lambda$ as a function of the voltage $V$, i.e., a function $\\lambda(V)$.  (Note `lambda` is a reserved word in Python; you cannot use it as a variable or function name.)"
   ]
  },
  {
   "cell_type": "code",
   "execution_count": 10,
   "metadata": {},
   "outputs": [],
   "source": [
    "## Here is how you use the constants library.  Keep track of Units!!!!\n",
    "\n",
    "mc2 = const.value(u'electron mass energy equivalent in MeV')*1.0e6 # eV\n",
    "hc = const.value(u'Planck constant in eV s')*const.speed_of_light*1.0e10 # eV-A\n",
    "a_gr = 2.46 # angstrom\n",
    "\n",
    "## You write rest here"
   ]
  },
  {
   "cell_type": "markdown",
   "metadata": {},
   "source": [
    "## Aluminum data analysis\n",
    "\n",
    "### Part 1 - Look at your data set\n",
    "\n",
    "As above, first import your data and plot it to make sure it is OK.\n",
    "\n"
   ]
  },
  {
   "cell_type": "code",
   "execution_count": 11,
   "metadata": {},
   "outputs": [],
   "source": [
    "## You write all here.  Copy what you did with the graphite data set"
   ]
  },
  {
   "cell_type": "markdown",
   "metadata": {},
   "source": [
    "#### Plot some of it\n",
    "Plot a few ring diameters as a function of voltage.  The data should resemble what you got with graphite."
   ]
  },
  {
   "cell_type": "code",
   "execution_count": 12,
   "metadata": {},
   "outputs": [],
   "source": [
    "## A sanity check plot.  No need of special formatting or axis labels"
   ]
  },
  {
   "cell_type": "markdown",
   "metadata": {},
   "source": [
    "### Part 2 - Convert $D$ to $\\sin\\theta$\n",
    "\n",
    "Repeat what you did with graphite to get the data into the $\\sin\\theta$ form.  Do this for all voltages.  You should have 5 separate $\\sin\\theta$ arrays."
   ]
  },
  {
   "cell_type": "code",
   "execution_count": 13,
   "metadata": {},
   "outputs": [],
   "source": [
    "## repeat the calculation you did earlier, but with the Al rings"
   ]
  },
  {
   "cell_type": "markdown",
   "metadata": {},
   "source": [
    "### Part 3 - Calculate Ring Spacing for Different Structures\n",
    "\n",
    "The ring spacings (and $\\sin\\theta$) should be proportional to $\\sqrt{h^2+k^2+l^2}$ for the appropriate collection of $h,k,l$ integers.  For the cubic structures there are three possibilities: simple cubic, which allows all values of $h,k,l$, body-centered cubic which requires the sum $h+k+l$ to be even, and face-centered cubic which requires $h,k,l$ to be all even or all odd (another way to say this is that the sum of any two is even).\n",
    "\n",
    "Either work out the possibilities for the first 6 rings for the three different possible structures by hand, or write some code to do this.  Then create arrays `x_sc`, `x_bcc`, and `x_fcc` which will allow you to plot the ring diameters versus each array.  From this, determine which one gives the best straight line.\n",
    "\n",
    "**NOTE** For ring 5 (usually the outermost), you will find that it does not match the 5th allowed reflection.  Try a higher one in the series. (Which works best?)"
   ]
  },
  {
   "cell_type": "code",
   "execution_count": 14,
   "metadata": {},
   "outputs": [],
   "source": [
    "## You write all here.  It may simply be a declaration of arrays for different spacings, entered by hand.\n",
    "\n",
    "## Print things out in some tabular form, so one can see what you got\n"
   ]
  },
  {
   "cell_type": "markdown",
   "metadata": {},
   "source": [
    "### Now plot data against $hkl$\n",
    "\n",
    "Make a plot with one of the ring-diameter sets versus the spacings for the three different x-value sets.  Find the match that looks most linear."
   ]
  },
  {
   "cell_type": "code",
   "execution_count": 15,
   "metadata": {},
   "outputs": [],
   "source": [
    "##  You write all here.  Use the plotting code from above\n"
   ]
  },
  {
   "cell_type": "markdown",
   "metadata": {},
   "source": [
    "### Part 4 - Fit to the best structure\n",
    "\n",
    "Fit a line to the $hkl$ group that has the closest match to the ring spacing.  The slope should give you $\\frac{\\lambda}{2a}$ for that voltage.  As a quick check, calculate the lattice constant; it should be about 4 aangstrom."
   ]
  },
  {
   "cell_type": "code",
   "execution_count": 16,
   "metadata": {},
   "outputs": [],
   "source": [
    "## You write all here"
   ]
  },
  {
   "cell_type": "markdown",
   "metadata": {},
   "source": [
    "### Part 5 - Repeat the process for the other voltages\n",
    "\n",
    "Fit the $\\sin\\theta$ versus $hkl$ lengths for the other data sets in the aluminum measurements.  Obtain the slopes (all proportional to $\\lambda/2a$ for each voltage).  Then combine these results to plot $\\lambda/2a$ versus $\\lambda(V)$.  The slope of this line should give you the best value of the aluminum lattice constant $a$.\n",
    "\n",
    "You do not need to plot the intermediate fits (but examine the statistics to make sure you have not made a mistake).  Do plot the final fit.\n",
    "\n",
    "OPTIONAL: Calculate the uncertainty in $a$ from the final plot/fit result."
   ]
  },
  {
   "cell_type": "markdown",
   "metadata": {},
   "source": [
    "### Fits here for $\\lambda/2a$ values for each voltage\n"
   ]
  },
  {
   "cell_type": "code",
   "execution_count": 17,
   "metadata": {},
   "outputs": [],
   "source": [
    "## You write all here"
   ]
  },
  {
   "cell_type": "markdown",
   "metadata": {},
   "source": [
    "### Plot and fit here for final $\\lambda/2a$ vs $\\lambda(V)$"
   ]
  },
  {
   "cell_type": "code",
   "execution_count": 18,
   "metadata": {},
   "outputs": [],
   "source": [
    "## You write all here"
   ]
  },
  {
   "cell_type": "markdown",
   "metadata": {},
   "source": [
    "### Calculate and print Al lattice constant (maybe with uncertainty)."
   ]
  },
  {
   "cell_type": "code",
   "execution_count": 19,
   "metadata": {},
   "outputs": [],
   "source": [
    "## You write all here"
   ]
  }
 ],
 "metadata": {
  "kernelspec": {
   "display_name": "Python 3",
   "language": "python",
   "name": "python3"
  },
  "language_info": {
   "codemirror_mode": {
    "name": "ipython",
    "version": 3
   },
   "file_extension": ".py",
   "mimetype": "text/x-python",
   "name": "python",
   "nbconvert_exporter": "python",
   "pygments_lexer": "ipython3",
   "version": "3.7.3"
  }
 },
 "nbformat": 4,
 "nbformat_minor": 2
}
